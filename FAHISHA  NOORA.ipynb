{
 "cells": [
  {
   "cell_type": "code",
   "execution_count": 7,
   "id": "ee6af61d-0383-49f9-a3ee-54a4114dd32f",
   "metadata": {},
   "outputs": [
    {
     "name": "stdout",
     "output_type": "stream",
     "text": [
      "[1, 2, 3, 4, 5]\n"
     ]
    }
   ],
   "source": [
    "def remove_duplicates(num):\n",
    "    seen = {}\n",
    "    list = []\n",
    "    for a in num:\n",
    "        if a not in seen:\n",
    "            list.append(a)\n",
    "            seen[a] = True\n",
    "    return list\n",
    "num= [1, 2, 2, 3, 4, 4, 5]\n",
    "result = remove_duplicates(num)\n",
    "print(result)\n"
   ]
  },
  {
   "cell_type": "code",
   "execution_count": null,
   "id": "a3acb1cc-4b9b-4995-8c88-705847991334",
   "metadata": {},
   "outputs": [],
   "source": []
  }
 ],
 "metadata": {
  "kernelspec": {
   "display_name": "Python 3 (ipykernel)",
   "language": "python",
   "name": "python3"
  },
  "language_info": {
   "codemirror_mode": {
    "name": "ipython",
    "version": 3
   },
   "file_extension": ".py",
   "mimetype": "text/x-python",
   "name": "python",
   "nbconvert_exporter": "python",
   "pygments_lexer": "ipython3",
   "version": "3.12.4"
  }
 },
 "nbformat": 4,
 "nbformat_minor": 5
}
